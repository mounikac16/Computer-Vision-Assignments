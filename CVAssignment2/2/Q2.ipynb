{
 "cells": [
  {
   "cell_type": "code",
   "execution_count": 1,
   "metadata": {},
   "outputs": [],
   "source": [
    "import scipy.misc\n",
    "import numpy as np\n",
    "import matplotlib \n",
    "%matplotlib notebook\n",
    "matplotlib.use('TkAgg')\n",
    "#%matplotlib inline\n",
    "import matplotlib.pyplot as plt\n",
    "import warnings\n",
    "import cv2\n",
    "from pylab import *\n",
    "import matplotlib.lines as mlines"
   ]
  },
  {
   "cell_type": "code",
   "execution_count": 2,
   "metadata": {},
   "outputs": [],
   "source": [
    "image = cv2.imread('HW2/img.jpg')\n",
    "#marking top and bottom points of sign board whose height is known\n",
    "plt.imshow(image)\n",
    "known_points =plt.ginput(2)\n",
    "known_top = known_points[0]\n",
    "known_bottom = known_points[1]\n",
    "plt.close()\n",
    "#plt.plot([known_top[0], known_bottom[0]], [known_top[1], known_bottom[1]], marker = 'o')"
   ]
  },
  {
   "cell_type": "code",
   "execution_count": 3,
   "metadata": {},
   "outputs": [],
   "source": [
    "#marking top and bottom points of an object whose height is unknown\n",
    "plt.imshow(image)\n",
    "unknown_points =plt.ginput(2)\n",
    "unknown_top = unknown_points[0]\n",
    "unknown_bottom = unknown_points[1]\n",
    "plt.close()\n",
    "#plt.plot([unknown_top[0], unknown_bottom[0]], [unknown_top[1], unknown_bottom[1]], marker = 'o')"
   ]
  },
  {
   "cell_type": "code",
   "execution_count": 4,
   "metadata": {},
   "outputs": [],
   "source": [
    "#function to calculate the vanishing points\n",
    "def get_intersection_points():\n",
    "    plt.imshow(image)\n",
    "    pl_points =plt.ginput(4)\n",
    "    plt.close()\n",
    "    print(pl_points)\n",
    "    slope=[]\n",
    "    intercept=[]\n",
    "    for i in range(0,len(pl_points),2):\n",
    "        slope.append((pl_points[i+1][1]-pl_points[i][1])/(pl_points[i+1][0]-pl_points[i][0]))\n",
    "        intercept.append(pl_points[i][1]-(pl_points[i][0]*slope[-1]))\n",
    "    if(slope[0] == slope[1]):\n",
    "        return None\n",
    "    else:\n",
    "        x = (intercept[1] - intercept[0]) /(slope[0] - slope[1])\n",
    "        y = slope[0]*x + intercept[0]\n",
    "        return((x,y))"
   ]
  },
  {
   "cell_type": "code",
   "execution_count": 5,
   "metadata": {},
   "outputs": [
    {
     "name": "stdout",
     "output_type": "stream",
     "text": [
      "[(938.4202608878604, 928.7051335998312), (647.5723753418897, 977.1797811908264), (943.8063328424155, 1074.129076372817), (652.9584472964448, 1106.445508100147)]\n",
      "[(1676.3121186618978, 1084.9012202819267), (1848.666421207658, 1079.5151483273721), (1676.3121186618978, 1375.749105827898), (1843.2803492531034, 1381.135177782453)]\n",
      "(-1689.9828529349666, 1366.772319236969) (-2903.3879204113196, 1228.0168465029542)\n"
     ]
    }
   ],
   "source": [
    "#finding vanishing points\n",
    "vp1 = get_intersection_points()\n",
    "vp2 = get_intersection_points()\n",
    "if(vp1 != None and vp2!= None):\n",
    "    print(vp1,vp2)\n",
    "else:\n",
    "    print(\"parallel lines.\")\n"
   ]
  },
  {
   "cell_type": "code",
   "execution_count": 6,
   "metadata": {},
   "outputs": [
    {
     "name": "stdout",
     "output_type": "stream",
     "text": [
      "equation of vanishing line : y = 0.11435214542378602x + 1560.0254841994931\n"
     ]
    }
   ],
   "source": [
    "#finding vanishing line equation\n",
    "vl_m = (vp1[1] - vp2[1])/(vp1[0] - vp2[0])\n",
    "vl_c = vp1[1] - vl_m*vp1[0]\n",
    "print('equation of vanishing line : y = ' + str(vl_m) + 'x + ' + str(vl_c))"
   ]
  },
  {
   "cell_type": "code",
   "execution_count": null,
   "metadata": {},
   "outputs": [],
   "source": [
    "plt_img = cv2.imread('HW2/img.jpg')\n",
    "plt.imshow(plt_img)\n",
    "plt.plot([int(vp1[0]),int(vp2[0])],[int(vp1[1]),int(vp2[1])])\n",
    "plt.show()"
   ]
  },
  {
   "cell_type": "code",
   "execution_count": 7,
   "metadata": {},
   "outputs": [
    {
     "name": "stdout",
     "output_type": "stream",
     "text": [
      "equation of projection on vanishing line : y = 0.1470588235294118x + 2046.7658166359327\n"
     ]
    }
   ],
   "source": [
    "#calculating eq. of line drawn from known object bottom to vanishing line\n",
    "bp_m = (known_bottom[1]-unknown_bottom[1])/(known_bottom[0]-unknown_bottom[0])\n",
    "bp_c = known_bottom[1] - bp_m * known_bottom[0]\n",
    "print('equation of projection on vanishing line : y = ' + str(bp_m) + 'x + ' + str(bp_c))"
   ]
  },
  {
   "cell_type": "code",
   "execution_count": 8,
   "metadata": {},
   "outputs": [
    {
     "name": "stdout",
     "output_type": "stream",
     "text": [
      "-14881.98620674708 -141.76156670922683\n"
     ]
    }
   ],
   "source": [
    "#calculating intersection of vanishing line and previous projected line\n",
    "proj_pt_x = (bp_c-vl_c)/(vl_m-bp_m)\n",
    "proj_pt_y = vl_m*proj_pt_x + vl_c\n",
    "print(proj_pt_x, proj_pt_y)"
   ]
  },
  {
   "cell_type": "code",
   "execution_count": 9,
   "metadata": {},
   "outputs": [
    {
     "name": "stdout",
     "output_type": "stream",
     "text": [
      "equation of reference line : y = 0.13574031763242553x + 1878.3239679959975\n"
     ]
    }
   ],
   "source": [
    "#calculating line from previous calculated point and object top\n",
    "rl_m = (unknown_top[1] - proj_pt_y) / (unknown_top[0] - proj_pt_x)\n",
    "rl_c = unknown_top[1] - unknown_top[0] * rl_m\n",
    "print('equation of reference line : y = ' + str(rl_m) + 'x + ' + str(rl_c))"
   ]
  },
  {
   "cell_type": "code",
   "execution_count": 10,
   "metadata": {},
   "outputs": [
    {
     "name": "stdout",
     "output_type": "stream",
     "text": [
      "equation of line along reference object : y = -24.99999999999983x + 28218.70881548478\n"
     ]
    }
   ],
   "source": [
    "#calculating equation of object with known height\n",
    "ref_m = (known_bottom[1]-known_top[1])/(known_bottom[0]-known_top[0])\n",
    "ref_c = known_top[1] - ref_m * known_top[0]\n",
    "print('equation of line along reference object : y = ' + str(ref_m) + 'x + ' + str(ref_c))"
   ]
  },
  {
   "cell_type": "code",
   "execution_count": 11,
   "metadata": {},
   "outputs": [
    {
     "name": "stdout",
     "output_type": "stream",
     "text": [
      "1047.925563943366 2020.5697169008085\n"
     ]
    }
   ],
   "source": [
    "#calculating refernce point on known object\n",
    "ref_x = (ref_c - rl_c)/(rl_m-ref_m)\n",
    "ref_y = rl_m*ref_x + rl_c\n",
    "ref = (ref_x,ref_y) \n",
    "print(ref_x,ref_y)"
   ]
  },
  {
   "cell_type": "code",
   "execution_count": 12,
   "metadata": {},
   "outputs": [
    {
     "name": "stdout",
     "output_type": "stream",
     "text": [
      "2.1964790604550792\n"
     ]
    }
   ],
   "source": [
    "#applying cross ration to calculate height of object\n",
    "cross_ratio = np.linalg.norm(np.array(ref)-np.array(known_bottom))/np.linalg.norm(np.array(known_top) - np.array(known_bottom))\n",
    "cross_ratio *= 1.65\n",
    "print(cross_ratio)"
   ]
  },
  {
   "cell_type": "code",
   "execution_count": 13,
   "metadata": {},
   "outputs": [
    {
     "name": "stdout",
     "output_type": "stream",
     "text": [
      "6.35249166778941\n"
     ]
    }
   ],
   "source": [
    "temp_m = (known_top[1] - known_bottom[1])/(known_top[0] - known_bottom[0])\n",
    "temp_c = known_top[1] - temp_m*known_top[0]\n",
    "\n",
    "temp_x = (temp_c - vl_c)/(vl_m - temp_m)\n",
    "temp_y = temp_x*temp_m + temp_c\n",
    "temp = (temp_x,temp_y)\n",
    "\n",
    "#applying cross ration to find the height of camera\n",
    "cam_cross_ratio = np.linalg.norm(np.array(temp)-np.array(known_bottom))/np.linalg.norm(np.array(known_top) - np.array(known_bottom))\n",
    "cam_cross_ratio *= 1.65\n",
    "print(cam_cross_ratio)"
   ]
  },
  {
   "cell_type": "code",
   "execution_count": null,
   "metadata": {},
   "outputs": [],
   "source": []
  }
 ],
 "metadata": {
  "kernelspec": {
   "display_name": "Python 3",
   "language": "python",
   "name": "python3"
  },
  "language_info": {
   "codemirror_mode": {
    "name": "ipython",
    "version": 3
   },
   "file_extension": ".py",
   "mimetype": "text/x-python",
   "name": "python",
   "nbconvert_exporter": "python",
   "pygments_lexer": "ipython3",
   "version": "3.6.7"
  }
 },
 "nbformat": 4,
 "nbformat_minor": 2
}
