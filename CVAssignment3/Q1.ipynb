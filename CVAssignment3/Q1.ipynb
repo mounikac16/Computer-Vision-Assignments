{
 "cells": [
  {
   "cell_type": "code",
   "execution_count": 23,
   "metadata": {},
   "outputs": [],
   "source": [
    "import os, os.path\n",
    "import csv\n",
    "import numpy as np\n",
    "import sys\n",
    "from scipy.spatial import distance\n",
    "import cv2\n",
    "import matplotlib.pyplot as plt\n",
    "from sklearn.cluster import KMeans\n",
    "from sklearn.metrics import classification_report, accuracy_score, confusion_matrix\n",
    "from sklearn.decomposition import PCA\n",
    "from sklearn.neighbors import KNeighborsClassifier\n",
    "from sklearn.model_selection import train_test_split"
   ]
  },
  {
   "cell_type": "code",
   "execution_count": 2,
   "metadata": {},
   "outputs": [],
   "source": [
    "train_features_path = 'train_sift_features'\n",
    "test_features_path = 'test_sift_features'\n",
    "train_labels_path = 'train_labels.csv'\n",
    "test_labels_path = 'test_labels.csv'"
   ]
  },
  {
   "cell_type": "code",
   "execution_count": 3,
   "metadata": {},
   "outputs": [],
   "source": [
    "def read_features(path, mode):\n",
    "    total_features = []\n",
    "    features_count = []\n",
    "    n = len([name for name in os.listdir(path) if os.path.isfile(os.path.join(path, name))])\n",
    "    for i in range(1,n+1):\n",
    "        count = 0\n",
    "        file = path + '/' + str(i) + '_' + mode + '_sift.csv'\n",
    "        file_read = csv.reader(open(file,'r'))\n",
    "        for j in file_read:\n",
    "            total_features.append(list(map(int, j[4:])))\n",
    "            count += 1\n",
    "        features_count.append(count)\n",
    "    return total_features, features_count"
   ]
  },
  {
   "cell_type": "code",
   "execution_count": 4,
   "metadata": {},
   "outputs": [],
   "source": [
    "def read_labels(path):\n",
    "    with open(path, 'r') as f:\n",
    "        f = list(csv.reader(f, delimiter = ','))\n",
    "        return list(map(int, f[0]))"
   ]
  },
  {
   "cell_type": "code",
   "execution_count": 5,
   "metadata": {},
   "outputs": [],
   "source": [
    "train_features, train_features_count = read_features(train_features_path, 'train')\n",
    "test_features, test_features_count = read_features(test_features_path, 'test')\n",
    "train_labels = read_labels(train_labels_path)\n",
    "test_labels = read_labels(test_labels_path)"
   ]
  },
  {
   "cell_type": "code",
   "execution_count": 6,
   "metadata": {},
   "outputs": [],
   "source": [
    "def kmeans(train_features, test_features, k):\n",
    "    km = KMeans(k)\n",
    "    km.fit(train_features + test_features)\n",
    "    centroid = km.cluster_centers_\n",
    "    labels = km.labels_\n",
    "    return centroid, labels"
   ]
  },
  {
   "cell_type": "code",
   "execution_count": 7,
   "metadata": {
    "scrolled": true
   },
   "outputs": [
    {
     "name": "stdout",
     "output_type": "stream",
     "text": [
      "[6 1 3 ... 1 1 6]\n"
     ]
    }
   ],
   "source": [
    "k = 8\n",
    "km_centroid, km_labels = kmeans(train_features, test_features, k)\n",
    "#print(km_centroid)\n",
    "print(km_labels)"
   ]
  },
  {
   "cell_type": "code",
   "execution_count": 8,
   "metadata": {},
   "outputs": [],
   "source": [
    "def bag_of_words(features, features_count, km_centroid, k):\n",
    "    bow = []\n",
    "    temp = [0]*k\n",
    "    index = 0\n",
    "    l = len(features)\n",
    "    count = 0\n",
    "    for i in range(l):\n",
    "        min_dist = sys.maxsize\n",
    "        min_index = 0\n",
    "        for j in range(k):\n",
    "            temp_dist = np.linalg.norm(features[i] - km_centroid[j])\n",
    "            if temp_dist < min_dist:\n",
    "                min_dist = temp_dist\n",
    "                min_index = j\n",
    "        temp[min_index] += 1\n",
    "        count+=1\n",
    "        if(count == features_count[index]):\n",
    "            index += 1\n",
    "            bow.append(temp)\n",
    "            temp = [0]*k\n",
    "            count = 0\n",
    "    return bow"
   ]
  },
  {
   "cell_type": "code",
   "execution_count": 9,
   "metadata": {},
   "outputs": [],
   "source": [
    "train_bow = bag_of_words(train_features, train_features_count, km_centroid, k)\n",
    "test_bow = bag_of_words(test_features, test_features_count, km_centroid, k)"
   ]
  },
  {
   "cell_type": "code",
   "execution_count": 19,
   "metadata": {},
   "outputs": [
    {
     "data": {
      "text/plain": [
       "KNeighborsClassifier(algorithm='auto', leaf_size=30, metric='minkowski',\n",
       "           metric_params=None, n_jobs=1, n_neighbors=5, p=2,\n",
       "           weights='uniform')"
      ]
     },
     "execution_count": 19,
     "metadata": {},
     "output_type": "execute_result"
    }
   ],
   "source": [
    "knn_n = 5\n",
    "knn = KNeighborsClassifier(n_neighbors=knn_n)\n",
    "knn.fit(train_bow, train_labels)"
   ]
  },
  {
   "cell_type": "code",
   "execution_count": 14,
   "metadata": {},
   "outputs": [],
   "source": [
    "predicted_labels = knn.predict(test_bow)"
   ]
  },
  {
   "cell_type": "code",
   "execution_count": 30,
   "metadata": {},
   "outputs": [
    {
     "name": "stdout",
     "output_type": "stream",
     "text": [
      "Confusion matrix :\n",
      " [[55  0 21  0  9 12  0  3]\n",
      " [ 0 73  0  8  6  3  4  6]\n",
      " [29  0 37  6  9 12  2  5]\n",
      " [ 4 15  0 39  9 11 13  9]\n",
      " [ 6  5  6  6 36 17 17  7]\n",
      " [16  5  8  8 19 29  8  7]\n",
      " [ 2  4  1 11 19 18 37  8]\n",
      " [10  8  7 19 14 11 10 21]]\n"
     ]
    }
   ],
   "source": [
    "print(\"Confusion matrix = \\n\",confusion_matrix(test_labels, predicted_labels))"
   ]
  },
  {
   "cell_type": "code",
   "execution_count": 29,
   "metadata": {},
   "outputs": [
    {
     "name": "stdout",
     "output_type": "stream",
     "text": [
      "             precision    recall  f1-score   support\n",
      "\n",
      "          0       0.45      0.55      0.50       100\n",
      "          1       0.66      0.73      0.70       100\n",
      "          2       0.46      0.37      0.41       100\n",
      "          3       0.40      0.39      0.40       100\n",
      "          4       0.30      0.36      0.33       100\n",
      "          5       0.26      0.29      0.27       100\n",
      "          6       0.41      0.37      0.39       100\n",
      "          7       0.32      0.21      0.25       100\n",
      "\n",
      "avg / total       0.41      0.41      0.40       800\n",
      "\n"
     ]
    }
   ],
   "source": [
    "print(classification_report(test_labels, predicted_labels, target_names=['0','1','2','3','4','5','6','7']))"
   ]
  },
  {
   "cell_type": "code",
   "execution_count": 32,
   "metadata": {},
   "outputs": [
    {
     "name": "stdout",
     "output_type": "stream",
     "text": [
      "accuracy : 40.875 %\n"
     ]
    }
   ],
   "source": [
    "print(\"accuracy :\",accuracy_score(test_labels, predicted_labels)*100,\"%\")"
   ]
  },
  {
   "cell_type": "code",
   "execution_count": 35,
   "metadata": {},
   "outputs": [],
   "source": [
    "error = []\n",
    "n = 40\n",
    "for i in range(1, n):  \n",
    "    knn = KNeighborsClassifier(n_neighbors=i)\n",
    "    knn.fit(train_bow, train_labels)\n",
    "    pred_i = knn.predict(test_bow)\n",
    "    error.append(np.mean(pred_i != test_labels))"
   ]
  },
  {
   "cell_type": "code",
   "execution_count": 36,
   "metadata": {},
   "outputs": [
    {
     "name": "stdout",
     "output_type": "stream",
     "text": [
      "[0.64125, 0.6225, 0.61125, 0.58625, 0.59125, 0.58625, 0.59, 0.5825, 0.58375, 0.5825, 0.57875, 0.57625, 0.5725, 0.5725, 0.57375, 0.575, 0.5725, 0.57, 0.57125, 0.58, 0.5725, 0.56875, 0.5625, 0.55625, 0.56375, 0.57125, 0.57625, 0.56875, 0.57, 0.56625, 0.57125, 0.56375, 0.5675, 0.56125, 0.56125, 0.56125, 0.5625, 0.57, 0.56625]\n"
     ]
    }
   ],
   "source": [
    "print(error)"
   ]
  },
  {
   "cell_type": "code",
   "execution_count": 37,
   "metadata": {},
   "outputs": [
    {
     "data": {
      "text/plain": [
       "Text(0, 0.5, 'Mean Error')"
      ]
     },
     "execution_count": 37,
     "metadata": {},
     "output_type": "execute_result"
    },
    {
     "data": {
      "image/png": "[encoded data removed]",
      "text/plain": [
       "<Figure size 864x432 with 1 Axes>"
      ]
     },
     "metadata": {
      "needs_background": "light"
     },
     "output_type": "display_data"
    }
   ],
   "source": [
    "plt.figure(figsize=(12, 6))  \n",
    "plt.plot(range(1, n), error, color='red', linestyle='dashed', marker='o',  \n",
    "         markerfacecolor='blue', markersize=10)\n",
    "plt.title('Error Rate K Value')  \n",
    "plt.xlabel('K Value')  \n",
    "plt.ylabel('Mean Error')"
   ]
  }
 ],
 "metadata": {
  "kernelspec": {
   "display_name": "Python 3",
   "language": "python",
   "name": "python3"
  },
  "language_info": {
   "codemirror_mode": {
    "name": "ipython",
    "version": 3
   },
   "file_extension": ".py",
   "mimetype": "text/x-python",
   "name": "python",
   "nbconvert_exporter": "python",
   "pygments_lexer": "ipython3",
   "version": "3.6.7"
  }
 },
 "nbformat": 4,
 "nbformat_minor": 2
}
