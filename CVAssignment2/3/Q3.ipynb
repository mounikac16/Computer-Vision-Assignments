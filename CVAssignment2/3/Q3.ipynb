{
 "cells": [
  {
   "cell_type": "code",
   "execution_count": null,
   "metadata": {},
   "outputs": [],
   "source": [
    "import numpy as np\n",
    "import sys\n",
    "import cv2\n",
    "from PIL import Image\n",
    "import math\n",
    "from scipy import signal\n",
    "import time"
   ]
  },
  {
   "cell_type": "code",
   "execution_count": null,
   "metadata": {},
   "outputs": [],
   "source": [
    "left = cv2.imread('HW2/tsukuba1.ppm',0)\n",
    "right = cv2.imread('HW2/tsukuba2.ppm',0)\n",
    "h,w = left.shape\n",
    "depth_ssd = np.zeros((h,w),np.uint8)\n",
    "depth_ncc = np.zeros((h,w),np.uint8)"
   ]
  },
  {
   "cell_type": "code",
   "execution_count": null,
   "metadata": {},
   "outputs": [],
   "source": [
    "#window size - n\n",
    "n = 5\n",
    "w_size = int(n/2)\n",
    "#pixel search range - psr\n",
    "psr = 30\n",
    "adjust_op = 255/psr"
   ]
  },
  {
   "cell_type": "code",
   "execution_count": null,
   "metadata": {},
   "outputs": [],
   "source": [
    "#ssd - sum squared distance\n",
    "start = time.time()\n",
    "for j in range(w_size, h - w_size):\n",
    "    for i in range(w_size, w - w_size):\n",
    "        ssd_depth_val = 0\n",
    "        prev_ssd = sys.maxsize\n",
    "        #moving along scanline\n",
    "        for d in range(psr):                                         \n",
    "            M1 = left[j-w_size:j+w_size,i-w_size:i+w_size]\n",
    "            M2 = right[j-w_size:j+w_size,i-w_size-d:i+w_size-d]\n",
    "            #calculating ssd\n",
    "            if(M2.shape != M1.shape):\n",
    "                M2=np.zeros(M1.shape)\n",
    "            M=M1-M2\n",
    "            M=M**2\n",
    "            ssd = np.sum(M)\n",
    "            #finding window that gives min. ssd\n",
    "            if ssd < prev_ssd:\n",
    "                prev_ssd = ssd\n",
    "                ssd_depth_val = d\n",
    "        depth_ssd[j, i] = ssd_depth_val * adjust_op\n",
    "Image.fromarray(depth_ssd).save('depth_ssd.png')\n",
    "end = time.time()\n",
    "print(\"Time taken by ssd :\",(end-start))"
   ]
  },
  {
   "cell_type": "code",
   "execution_count": null,
   "metadata": {},
   "outputs": [],
   "source": [
    "#ncc - normalized cross-correlation\n",
    "start = time.time()\n",
    "for j in range(w_size, h - w_size):\n",
    "    for i in range(w_size, w - w_size):\n",
    "        ncc_disp_val = 0\n",
    "        prev_ncc = -sys.maxsize -1\n",
    "        #moving along scanline\n",
    "        for d in range(psr):\n",
    "            tncc = 0\n",
    "            temp_ncc = 0\n",
    "            M1 = left[j-w_size:j+w_size,i-w_size:i+w_size]\n",
    "            M2 = right[j-w_size:j+w_size,i-w_size-d:i+w_size-d]\n",
    "            mean1 = np.mean(M1)\n",
    "            mean2 = np.mean(M2)\n",
    "            std1 = np.std(M1)\n",
    "            std2 = np.std(M2)\n",
    "            #calculating ncc\n",
    "            for v in range(-w_size, w_size):\n",
    "                for u in range(-w_size, w_size):\n",
    "                    temp_ncc = (left[j+v, i+u]-mean1)*(right[j+v, i+u - d]-mean2)\n",
    "                    temp_ncc /= (std1*std2)\n",
    "                    tncc += temp_ncc\n",
    "            tncc /= n**2\n",
    "            #finding window that gives max. ncc\n",
    "            if tncc>prev_ncc:\n",
    "                prev_ncc = tncc\n",
    "                ncc_disp_val = d\n",
    "        depth_ncc[j, i] = ncc_disp_val * adjust_op\n",
    "end = time.time()\n",
    "print(end-start)\n",
    "print(\"Time taken by normalised cross-correlation : \"+str(end-start))\n",
    "Image.fromarray(depth_ncc).save('ncc_w_7_psr_30.jpg')"
   ]
  }
 ],
 "metadata": {
  "kernelspec": {
   "display_name": "Python 3",
   "language": "python",
   "name": "python3"
  },
  "language_info": {
   "codemirror_mode": {
    "name": "ipython",
    "version": 3
   },
   "file_extension": ".py",
   "mimetype": "text/x-python",
   "name": "python",
   "nbconvert_exporter": "python",
   "pygments_lexer": "ipython3",
   "version": "3.6.7"
  }
 },
 "nbformat": 4,
 "nbformat_minor": 2
}
