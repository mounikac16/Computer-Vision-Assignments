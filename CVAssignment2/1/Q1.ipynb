{
 "cells": [
  {
   "cell_type": "code",
   "execution_count": 1,
   "metadata": {},
   "outputs": [],
   "source": [
    "import cv2\n",
    "from matplotlib import pyplot as plt\n",
    "import sys\n",
    "import random\n",
    "import numpy as np\n",
    "from scipy.ndimage import gaussian_filter"
   ]
  },
  {
   "cell_type": "code",
   "execution_count": 2,
   "metadata": {},
   "outputs": [],
   "source": [
    "img1 = cv2.imread('HW2/uttower_left.JPG',0)\n",
    "img2 = cv2.imread('HW2/uttower_right.JPG',0)"
   ]
  },
  {
   "cell_type": "code",
   "execution_count": 3,
   "metadata": {},
   "outputs": [],
   "source": [
    "#computing sift key-points and descriptors\n",
    "sift = cv2.xfeatures2d.SIFT_create()\n",
    "kp1, des1 = sift.detectAndCompute(img1,None)\n",
    "kp2, des2 = sift.detectAndCompute(img2,None)"
   ]
  },
  {
   "cell_type": "code",
   "execution_count": 4,
   "metadata": {},
   "outputs": [],
   "source": [
    "dist_arr = []\n",
    "l1 = len(des1)\n",
    "l2 = len(des2)\n",
    "#calculating the distance between descriptors\n",
    "for i in range(l1):\n",
    "    temp_arr = []\n",
    "    for j in range(l2):\n",
    "        temp = np.linalg.norm(des1[i]-des2[j])\n",
    "        temp_arr.append((temp,i,j))\n",
    "    top = sorted(temp_arr, key=lambda x: x[0])[0:2]\n",
    "    dist_arr.append([top[0],top[1]])"
   ]
  },
  {
   "cell_type": "code",
   "execution_count": 5,
   "metadata": {},
   "outputs": [],
   "source": [
    "#taking top 100 descriptors with least distance\n",
    "top_matches = sorted(dist_arr, key=lambda x: x[0][0])[0:100]"
   ]
  },
  {
   "cell_type": "code",
   "execution_count": 6,
   "metadata": {},
   "outputs": [],
   "source": [
    "#among top 100 we are keeping good descriptors\n",
    "good_matches = []\n",
    "for i in top_matches:\n",
    "    if i[0][0]/i[1][0] < 0.5:\n",
    "        good_matches.append(i[0])"
   ]
  },
  {
   "cell_type": "code",
   "execution_count": 7,
   "metadata": {},
   "outputs": [],
   "source": [
    "lkp = []\n",
    "rkp = []\n",
    "for _, i, j in good_matches:\n",
    "    lkp.append(kp1[int(i)])\n",
    "    rkp.append(kp2[int(j)])\n",
    "L = np.array([])\n",
    "R = np.array([])\n",
    "L = cv2.drawKeypoints(img1, lkp, L, color=(255,0,0))\n",
    "R = cv2.drawKeypoints(img2, rkp, R, color=(255,0,0))\n",
    "plt.imsave('leftKeyPoints.jpg',L)\n",
    "plt.imsave('rightKeyPoints.jpg',R)"
   ]
  },
  {
   "cell_type": "code",
   "execution_count": 8,
   "metadata": {},
   "outputs": [
    {
     "data": {
      "text/plain": [
       "True"
      ]
     },
     "execution_count": 8,
     "metadata": {},
     "output_type": "execute_result"
    }
   ],
   "source": [
    "left = cv2.imread('HW2/uttower_left.JPG')\n",
    "right = cv2.imread('HW2/uttower_right.JPG')\n",
    "hA, wA = left.shape[:2]\n",
    "hB, wB = right.shape[:2]\n",
    "\n",
    "vis = np.zeros((max(hA, hB), wA + wB, 3), dtype=\"uint8\")\n",
    "vis[0:hA, 0:wA] = left\n",
    "vis[0:hB, wA:] = right\n",
    "\n",
    "for i in range(len(lkp)):\n",
    "    ptA = (int(lkp[i].pt[0]), int(lkp[i].pt[1]))\n",
    "    ptB = (int(rkp[i].pt[0]) + wA, int(rkp[i].pt[1]))\n",
    "    cv2.line(vis, ptA, ptB, (255, 0, 0), 2)\n",
    "cv2.imwrite(\"Matchings.jpg\", vis)"
   ]
  },
  {
   "cell_type": "code",
   "execution_count": 12,
   "metadata": {},
   "outputs": [],
   "source": [
    "#function to calculate homography\n",
    "def get_homography(p):\n",
    "    A = []\n",
    "    for i in range(4):\n",
    "        u1,v1 = kp1[p[i][1]].pt\n",
    "        u,v = kp2[p[i][2]].pt\n",
    "        A.append([-u,-v,-1,0,0,0,u*u1,v*u1,u1])\n",
    "        A.append([0,0,0,-u,-v,-1,u*v1,v*v1,v1])\n",
    "    u, s, v = np.linalg.svd(A)\n",
    "    h = v[-1,:].reshape(3,3)\n",
    "    h = h/v[-1,-1]\n",
    "    return h"
   ]
  },
  {
   "cell_type": "code",
   "execution_count": 13,
   "metadata": {},
   "outputs": [],
   "source": [
    "def get_inliers(h,good_matches,delta):\n",
    "    inc = 0\n",
    "    l = len(good_matches)\n",
    "    for q in range(l):\n",
    "        u1,v1 = kp1[good_matches[q][1]].pt\n",
    "        u,v = kp2[good_matches[q][2]].pt\n",
    "        x = np.array([[u],[v],[1]])\n",
    "        y = np.array([[u1],[v1],[1]])\n",
    "        x1 = h.dot(x)\n",
    "        dist = np.linalg.norm(y-x1)\n",
    "        if(dist<=delta):\n",
    "            inc+=1\n",
    "    return inc"
   ]
  },
  {
   "cell_type": "code",
   "execution_count": 14,
   "metadata": {
    "scrolled": true
   },
   "outputs": [],
   "source": [
    "#RANSAC\n",
    "N = 10\n",
    "H = []\n",
    "temp_inc = 0\n",
    "l = len(good_matches)\n",
    "l1 = len(lkp)\n",
    "for k in range(N):\n",
    "    il = []\n",
    "    while(len(set(il))<4):\n",
    "        il.append(random.randint(0, l1-1))\n",
    "        il = list(set(il))\n",
    "    h = get_homography([good_matches[il[0]],good_matches[il[1]],good_matches[il[2]],good_matches[il[3]]])\n",
    "    inc = get_inliers(h, good_matches ,150)\n",
    "    if(temp_inc<=inc):\n",
    "        temp_inc = inc\n",
    "        H = h"
   ]
  },
  {
   "cell_type": "code",
   "execution_count": 15,
   "metadata": {},
   "outputs": [
    {
     "data": {
      "text/plain": [
       "True"
      ]
     },
     "execution_count": 15,
     "metadata": {},
     "output_type": "execute_result"
    }
   ],
   "source": [
    "left = cv2.imread('HW2/uttower_left.JPG')\n",
    "right = cv2.imread('HW2/uttower_right.JPG')\n",
    "warped_img = cv2.warpPerspective(right,H,(left.shape[1] + right.shape[1], left.shape[0]))\n",
    "warped_img[0:left.shape[0], 0:left.shape[1]] = left\n",
    "cv2.imwrite('stitched_panorama.jpg',warped_img)"
   ]
  },
  {
   "cell_type": "code",
   "execution_count": 16,
   "metadata": {},
   "outputs": [
    {
     "data": {
      "text/plain": [
       "True"
      ]
     },
     "execution_count": 16,
     "metadata": {},
     "output_type": "execute_result"
    }
   ],
   "source": [
    "ws = 3\n",
    "cfirst = left[0:left.shape[0],0:left.shape[1]-ws]\n",
    "first = left[0:left.shape[0],left.shape[1]-ws:left.shape[1]]\n",
    "temp_img = warped_img[0:left.shape[0],left.shape[1]:warped_img.shape[1]]\n",
    "csecond = temp_img[0:left.shape[0],ws:temp_img.shape[1]]\n",
    "second = temp_img[0:left.shape+[0],0:ws]\n",
    "bl1 = cv2.addWeighted(first, 0.55,second, 0.55, 0)\n",
    "bl2 = cv2.addWeighted(csecond, 0.595, csecond, 0.595, 0)\n",
    "p1 = np.concatenate((cfirst, bl1), axis=1)\n",
    "final_img = np.concatenate((p1, bl2), axis=1)\n",
    "cv2.imwrite('final_stitched_img.jpg',final_img)"
   ]
  }
 ],
 "metadata": {
  "kernelspec": {
   "display_name": "Python 3",
   "language": "python",
   "name": "python3"
  },
  "language_info": {
   "codemirror_mode": {
    "name": "ipython",
    "version": 3
   },
   "file_extension": ".py",
   "mimetype": "text/x-python",
   "name": "python",
   "nbconvert_exporter": "python",
   "pygments_lexer": "ipython3",
   "version": "3.6.7"
  }
 },
 "nbformat": 4,
 "nbformat_minor": 2
}
